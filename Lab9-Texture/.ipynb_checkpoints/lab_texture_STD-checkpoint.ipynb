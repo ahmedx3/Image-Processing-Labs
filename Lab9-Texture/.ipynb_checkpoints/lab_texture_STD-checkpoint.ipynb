{
 "cells": [
  {
   "cell_type": "markdown",
   "metadata": {},
   "source": [
    "# Lab 9 - Texture Analysis"
   ]
  },
  {
   "cell_type": "markdown",
   "metadata": {},
   "source": [
    "## Part A\n",
    "\n",
    "### Objective\n",
    "\n",
    "The goal of this part is to segment the following photo into 3 segments: \n",
    "1. a segment for clothes with a jeans texture\n",
    "2. a segment for clothes with a cotton texture\n",
    "3. a segment for the background\n",
    "\n",
    "<img src='test.jpg' width=100px heigth=300px></img>"
   ]
  },
  {
   "cell_type": "code",
   "execution_count": 1,
   "metadata": {},
   "outputs": [],
   "source": [
    "# All the imports you will need in the whole lab\n",
    "from skimage.feature import greycomatrix, greycoprops\n",
    "from skimage import io\n",
    "from skimage.color import rgb2gray\n",
    "import matplotlib.pyplot as plt\n",
    "import os\n",
    "import numpy as np"
   ]
  },
  {
   "cell_type": "markdown",
   "metadata": {},
   "source": [
    "## Section 1\n",
    "\n",
    "In this section, you will extract features from image samples of the jeans and cotton texture using GLCM, then we will plot our feature space to see if our features are able to differentiate between the textures of jeans, cotton, and background. "
   ]
  },
  {
   "cell_type": "markdown",
   "metadata": {},
   "source": [
    "### TODO Implement get_glcm_features\n",
    "\n",
    "You will need the following two functions:\n",
    "\n",
    "greycomatrix, doc link -> https://scikit-image.org/docs/dev/api/skimage.feature.html#greycomatrix <br>\n",
    "greycoprops, doc link -> https://scikit-image.org/docs/dev/api/skimage.feature.html#skimage.feature.greycoprops"
   ]
  },
  {
   "cell_type": "code",
   "execution_count": 14,
   "metadata": {},
   "outputs": [],
   "source": [
    "def get_glcm_features(gray_scale_img):\n",
    "    \"\"\"\n",
    "    Given a grayscale image with graylevels from 0 - 255, this function returns the contrast\n",
    "    and the homogeneity features of the image with the help of GLCM\n",
    "    \"\"\"\n",
    "    # Tip: Make sure you understand the input-output of everything you write, \n",
    "    # not doing that results in bugs that makes you take a lot of time solving the lab\n",
    "    glcm = greycomatrix(gray_scale_img, [1], [0, np.pi/4, np.pi/2, 3*np.pi/4], levels=256, normed=True)\n",
    "    contrast = greycoprops(glcm, 'contrast')[0, 0]\n",
    "    homogeneity = greycoprops(glcm, 'homogeneity')[0, 0]\n",
    "    \n",
    "    return contrast, homogeneity"
   ]
  },
  {
   "cell_type": "markdown",
   "metadata": {},
   "source": [
    "The following part will extract the contrast and homogeneity of samples of jeans and cotton in the folder \"imgs_patches\" using your function. So, for each sample image, we will have a point in a 2D feature space. Then, it will plot this feature space."
   ]
  },
  {
   "cell_type": "code",
   "execution_count": 15,
   "metadata": {},
   "outputs": [
    {
     "data": {
      "image/png": "[encoded data removed]",
      "text/plain": [
       "<Figure size 936x576 with 1 Axes>"
      ]
     },
     "metadata": {
      "needs_background": "light"
     },
     "output_type": "display_data"
    }
   ],
   "source": [
    "# You don't need to understand how this function works\n",
    "def get_fname_images_tuple(directory):\n",
    "    fnames = os.listdir(directory)\n",
    "    to_return = []\n",
    "    for fn in fnames:\n",
    "        path = os.path.join(directory, fn)\n",
    "        gray_scale_image = (rgb2gray(io.imread(path)) * 255).astype(np.uint8)\n",
    "        to_return.append((fn, gray_scale_image))\n",
    "        \n",
    "    return to_return\n",
    "\n",
    "# You don't need to understand how this function works\n",
    "def plot_2d_features_with_names(names_fts_list, xlabel, ylabel):\n",
    "    x = [names_fts[1][0] for names_fts in names_fts_list]\n",
    "    y = [names_fts[1][1] for names_fts in names_fts_list]\n",
    "    txts = [names_fts[0] for names_fts in names_fts_list]\n",
    "    \n",
    "    fig, ax = plt.subplots()\n",
    "    ax.scatter(x, y)\n",
    "\n",
    "    for i, txt in enumerate(txts):\n",
    "        ax.annotate(txt, (x[i], y[i]))\n",
    "    ax.grid()\n",
    "    ax.set_xlabel(xlabel)\n",
    "    ax.set_ylabel(ylabel)\n",
    "    fig = plt.gcf()\n",
    "    fig.set_size_inches(13, 8)\n",
    "    \n",
    "fn_img_list = get_fname_images_tuple(r'imgs_patches')\n",
    "\n",
    "fn_ft_list = []\n",
    "for fn, img in fn_img_list:\n",
    "    fn_ft_list.append((fn, get_glcm_features(img)))\n",
    "    \n",
    "plot_2d_features_with_names(fn_ft_list, 'contrast', 'homogeneity')\n"
   ]
  },
  {
   "cell_type": "markdown",
   "metadata": {},
   "source": [
    "## Section 2\n",
    "\n",
    "You should have noticed that the previous section showed us that we can differentiate between jeans, cotton, & background patches using contrast and homogeneity. So, in this section, we will classify an unknown patch into one of those categories using a simple rule-based classifier. This will make us able to segment an image."
   ]
  },
  {
   "cell_type": "code",
   "execution_count": null,
   "metadata": {},
   "outputs": [],
   "source": [
    "# TODO implement this function\n",
    "\n",
    "def classify_patch(contrast, homogeneity):\n",
    "    \"\"\"\n",
    "    Given the contrast and homogeneity values of a certain image patch, this function \n",
    "    will return the class of the patch, i.e either 'jeans', 'cotton', or 'background'\n",
    "    \"\"\"\n",
    "    # Hint: We can decide whether the patch is background or not by simply checking 'if' the homogeneity is greater than 0.6\n",
    "    if homogeneity > 0.6: return 'background'\n",
    "    if contrast < 200:    return 'cotton'\n",
    "    return jeans"
   ]
  },
  {
   "cell_type": "markdown",
   "metadata": {},
   "source": [
    "### TODO Complete todos in segment_img\n",
    "\n",
    "This function is given an RGB image, and returns the segmented image coloring jeans patches in green, cotton patches in red, and the background in blue. Your final output should look like the following image:\n",
    "\n",
    "<img src='target_output.jpg' width=100px heigth=300px></img>"
   ]
  },
  {
   "cell_type": "code",
   "execution_count": null,
   "metadata": {},
   "outputs": [],
   "source": [
    "def segment_img(image):\n",
    "    img = image.copy()\n",
    "    patch_height = patch_width = 50\n",
    "    \n",
    "    # TODO complete the following skeleton\n",
    "    \n",
    "    # loop on the image patch by patch\n",
    "    for i in range(0, img.shape[0]-patch_height, patch_height):\n",
    "        for j in range(0, img.shape[1]-patch_width, patch_width):\n",
    "            patch = img[i: i+patch_height, j: j+patch_width]\n",
    "            \n",
    "            patch_grayscale = (rgb2gray(io.imread(patch)) * 255).astype(np.uint8)\n",
    "            \n",
    "            contrast, homogeneity = get_glcm_features(patch_grayscale)\n",
    "            classification = <get the classification of patch_grayscale>\n",
    "            \n",
    "            if classification == 'cotton':\n",
    "                patch[:,:, 0] = 255\n",
    "            elif classification == 'jeans':\n",
    "                patch[:,:, 1] = 255\n",
    "            else:\n",
    "                patch[:,:,2] = 255\n",
    "                \n",
    "    return img"
   ]
  },
  {
   "cell_type": "code",
   "execution_count": null,
   "metadata": {},
   "outputs": [],
   "source": [
    "# Testing your work\n",
    "image = io.imread('test.jpg')\n",
    "segmented_image = segment_img(image)\n",
    "io.imshow(segmented_image)"
   ]
  },
  {
   "cell_type": "markdown",
   "metadata": {},
   "source": [
    "## Part B - Bonus - 1 Mark\n",
    "\n",
    "You are required to implement your own function that computes the LBP histogram of a grayscale image (return to lecture slides for reference attached in this lab folder).\n",
    "\n",
    "#### Note: you are allowed not to compute the LBP for the image border pixels."
   ]
  },
  {
   "cell_type": "code",
   "execution_count": null,
   "metadata": {},
   "outputs": [],
   "source": [
    "def get_lbp_hist(grayscale_img):\n",
    "    return <LBP histogram which is a list of 256 numbers>"
   ]
  },
  {
   "cell_type": "code",
   "execution_count": null,
   "metadata": {},
   "outputs": [],
   "source": [
    "# Testing your work, we will compare your histogram with that of ours\n",
    "# There should be a noticable difference between the histograms of jeans and cotton\n",
    "img = rgb2gray(io.imread(r'imgs_patches\\jeans1.jpg'))\n",
    "hist = get_lbp_hist(img)\n",
    "plt.hist(hist, bins=range((2 ** 8)))\n",
    "0"
   ]
  },
  {
   "cell_type": "code",
   "execution_count": null,
   "metadata": {},
   "outputs": [],
   "source": [
    "# Testing your work, we will compare your histogram with that of ours\n",
    "# There should be a noticable difference between the histograms of jeans and cotton\n",
    "img = rgb2gray(io.imread(r'imgs_patches\\cotton1.jpg'))\n",
    "hist = get_lbp_hist(img)\n",
    "plt.hist(hist, bins=range((2 ** 8)))\n",
    "0"
   ]
  }
 ],
 "metadata": {
  "kernelspec": {
   "display_name": "Python 3",
   "language": "python",
   "name": "python3"
  },
  "language_info": {
   "codemirror_mode": {
    "name": "ipython",
    "version": 3
   },
   "file_extension": ".py",
   "mimetype": "text/x-python",
   "name": "python",
   "nbconvert_exporter": "python",
   "pygments_lexer": "ipython3",
   "version": "3.8.3"
  }
 },
 "nbformat": 4,
 "nbformat_minor": 2
}
